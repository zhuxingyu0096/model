{
  "nbformat": 4,
  "nbformat_minor": 0,
  "metadata": {
    "colab": {
      "provenance": [],
      "authorship_tag": "ABX9TyPHHD/uUhRBL1PqPcPUNIDN",
      "include_colab_link": true
    },
    "kernelspec": {
      "name": "python3",
      "display_name": "Python 3"
    },
    "language_info": {
      "name": "python"
    }
  },
  "cells": [
    {
      "cell_type": "markdown",
      "metadata": {
        "id": "view-in-github",
        "colab_type": "text"
      },
      "source": [
        "<a href=\"https://colab.research.google.com/github/zhuxingyu0096/model/blob/main/FuseCap_Image_Captioning.ipynb\" target=\"_parent\"><img src=\"https://colab.research.google.com/assets/colab-badge.svg\" alt=\"Open In Colab\"/></a>"
      ]
    },
    {
      "cell_type": "code",
      "source": [
        "import requests\n",
        "from PIL import Image\n",
        "from transformers import BlipProcessor, BlipForConditionalGeneration\n",
        "import torch\n",
        "import os\n"
      ],
      "metadata": {
        "id": "Pf_S8zRY2ZeD"
      },
      "execution_count": 15,
      "outputs": []
    },
    {
      "cell_type": "code",
      "source": [
        "# 设置设备\n",
        "device = torch.device('cuda' if torch.cuda.is_available() else 'cpu')\n",
        "\n",
        "# 加载处理器和模型\n",
        "processor = BlipProcessor.from_pretrained(\"noamrot/FuseCap\")\n",
        "model = BlipForConditionalGeneration.from_pretrained(\"noamrot/FuseCap\").to(device)\n",
        "\n"
      ],
      "metadata": {
        "colab": {
          "base_uri": "https://localhost:8080/"
        },
        "id": "BgJ5P6KP2am7",
        "outputId": "459e6b63-9e6c-46b1-d090-c8657071859e"
      },
      "execution_count": 16,
      "outputs": [
        {
          "output_type": "stream",
          "name": "stderr",
          "text": [
            "/usr/local/lib/python3.10/dist-packages/transformers/tokenization_utils_base.py:1601: FutureWarning: `clean_up_tokenization_spaces` was not set. It will be set to `True` by default. This behavior will be depracted in transformers v4.45, and will be then set to `False` by default. For more details check this issue: https://github.com/huggingface/transformers/issues/31884\n",
            "  warnings.warn(\n"
          ]
        }
      ]
    },
    {
      "cell_type": "code",
      "source": [
        "# 指定当前目录下的图片路径\n",
        "image_path = '/content/cat.JPEG'  # 替换为你的图片文件名\n",
        "\n",
        "if not os.path.exists(image_path):\n",
        "    raise FileNotFoundError(f\"Image file {image_path} not found.\")\n",
        "\n",
        "# 加载图片\n",
        "raw_image = Image.open(image_path).convert('RGB')\n",
        "\n",
        "# 无条件图像字幕生成\n",
        "inputs = processor(raw_image, return_tensors=\"pt\").to(device)\n",
        "\n",
        "out = model.generate(**inputs, num_beams=3)\n",
        "generated_text = processor.decode(out[0], skip_special_tokens=True).strip()\n",
        "\n",
        "# 去掉开头的逗号\n",
        "if generated_text.startswith(','):\n",
        "    generated_text = generated_text[1:].strip()\n",
        "\n",
        "print(generated_text)\n"
      ],
      "metadata": {
        "colab": {
          "base_uri": "https://localhost:8080/"
        },
        "id": "-S_EEbLE4mtF",
        "outputId": "d1000cb1-cde0-41cd-c105-c72d670a119c"
      },
      "execution_count": 21,
      "outputs": [
        {
          "output_type": "stream",
          "name": "stdout",
          "text": [
            "a cat with green eyes and pointy ears looks out of a window framed by brown curtains, with a white leg visible in the foreground\n"
          ]
        }
      ]
    }
  ]
}