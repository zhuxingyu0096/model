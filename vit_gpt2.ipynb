{
  "nbformat": 4,
  "nbformat_minor": 0,
  "metadata": {
    "colab": {
      "provenance": [],
      "authorship_tag": "ABX9TyMo3tvUaiEbtekItZovWrsI",
      "include_colab_link": true
    },
    "kernelspec": {
      "name": "python3",
      "display_name": "Python 3"
    },
    "language_info": {
      "name": "python"
    }
  },
  "cells": [
    {
      "cell_type": "markdown",
      "metadata": {
        "id": "view-in-github",
        "colab_type": "text"
      },
      "source": [
        "<a href=\"https://colab.research.google.com/github/zhuxingyu0096/model/blob/main/vit_gpt2.ipynb\" target=\"_parent\"><img src=\"https://colab.research.google.com/assets/colab-badge.svg\" alt=\"Open In Colab\"/></a>"
      ]
    },
    {
      "cell_type": "code",
      "source": [
        "from transformers import pipeline\n",
        "from PIL import Image\n",
        "import os\n",
        "\n",
        "# 加载图像到文本的管道\n",
        "image_to_text = pipeline(\"image-to-text\", model=\"nlpconnect/vit-gpt2-image-captioning\")\n",
        "\n",
        "# 指定当前目录下的图片路径\n",
        "image_path = '/content/input/cat.JPEG'  # 替换为你的图片文件名\n",
        "\n",
        "if not os.path.exists(image_path):\n",
        "    raise FileNotFoundError(f\"Image file {image_path} not found.\")\n",
        "\n",
        "# 加载并处理图片\n",
        "raw_image = Image.open(image_path)\n",
        "\n",
        "# 生成描述\n",
        "result = image_to_text(raw_image)\n",
        "print(result)\n"
      ],
      "metadata": {
        "colab": {
          "base_uri": "https://localhost:8080/"
        },
        "id": "oVbtsWFgq8bM",
        "outputId": "18320fcb-a1d9-4991-fcea-0312f13acec4"
      },
      "execution_count": null,
      "outputs": [
        {
          "output_type": "stream",
          "name": "stdout",
          "text": [
            "[{'generated_text': 'a cat sitting on a bed looking out the window '}]\n"
          ]
        }
      ]
    }
  ]
}